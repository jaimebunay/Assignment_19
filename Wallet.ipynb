{
 "cells": [
  {
   "cell_type": "code",
   "execution_count": 77,
   "metadata": {},
   "outputs": [],
   "source": [
    "from constants import *\n",
    "import subprocess\n",
    "import json\n",
    "import os\n",
    "from dotenv import load_dotenv\n",
    "from web3 import Web3\n",
    "from web3.middleware import geth_poa_middleware\n",
    "from web3.gas_strategies.time_based import medium_gas_price_strategy\n",
    "from bit import wif_to_key, PrivateKeyTestnet\n",
    "from bit.network import NetworkAPI\n",
    "from eth_account import Account"
   ]
  },
  {
   "cell_type": "code",
   "execution_count": 78,
   "metadata": {},
   "outputs": [
    {
     "data": {
      "text/plain": [
       "True"
      ]
     },
     "execution_count": 78,
     "metadata": {},
     "output_type": "execute_result"
    }
   ],
   "source": [
    "# Load dot env\n",
    "load_dotenv()"
   ]
  },
  {
   "cell_type": "code",
   "execution_count": 79,
   "metadata": {},
   "outputs": [],
   "source": [
    "#Generating a Mnemonic\n",
    "mnemonic = os.getenv('MNEMONIC')"
   ]
  },
  {
   "cell_type": "code",
   "execution_count": 80,
   "metadata": {},
   "outputs": [],
   "source": [
    "# Create coin object\n",
    "class coin:\n",
    "    BTC = 'btc'\n",
    "    ETH = 'eth'\n",
    "    BTCTEST = 'btc-test'"
   ]
  },
  {
   "cell_type": "code",
   "execution_count": 81,
   "metadata": {},
   "outputs": [],
   "source": [
    "#Deriving the wallet keys\n",
    "def derive_wallets (mnemonic,coin,number):\n",
    "    command = f'php ./hd-wallet-derive/hd-wallet-derive.php --mnemonic=\"{mnemonic}\" -g --numderive=\"{number}\" --coin=\"{coin}\" --cols=address,index,path,privkey,pubkey,pubkeyhash,xprv,xpub --format=json'\n",
    "    p = subprocess.Popen(command, stdout=subprocess.PIPE, shell=True)\n",
    "    (output, err) =p.communicate()\n",
    "    p_status = p.wait()\n",
    "    keys = json.loads(output)\n",
    "    return keys"
   ]
  },
  {
   "cell_type": "code",
   "execution_count": 82,
   "metadata": {},
   "outputs": [
    {
     "data": {
      "text/plain": [
       "[{'address': '0x3b3cb82b8b706757c78bd02f00B052E8e1929e04',\n",
       "  'index': 0,\n",
       "  'path': \"m/44'/60'/0'/0/0\",\n",
       "  'privkey': '0xcbf6bba94177a615b6cd0fd434a1cf3fb62b84abf1a28e7d3b7b4788b567dee0',\n",
       "  'pubkey': '03dc98bd00fb18a08817df0c68de42c3cc0dc4e1c93226ed6d38b73a98c8bb8b97',\n",
       "  'pubkeyhash': '3c07122eea28222a09d5915739126013d1b11991',\n",
       "  'xprv': 'xprvA3cnv9vAEFaet5HBf3mw3z92GQJJZBorkuPjTQSzWvsWGDvKksqKCPZmPNczKcGFWuG9KJMc6RrmWK9SPuUi7ewve2kjt71bXmgxXytFcTz',\n",
       "  'xpub': 'xpub6Gc9KfT44d8x6ZMem5JwR85kpS8nxeXi88KLFnrc5GQV92FUJR9ZkBtFEfipoZDg4bPbRv4YQfQUtZoUTroDxZiY8NJma3T3mEmePD2P3sU'},\n",
       " {'address': '0x8B2071CFC67f596BA4C280356bFeED43C030A5c6',\n",
       "  'index': 1,\n",
       "  'path': \"m/44'/60'/0'/0/1\",\n",
       "  'privkey': '0x6153f62d4c7ab191aee7bccfab58e853f892107d559b94d20837689630f0873e',\n",
       "  'pubkey': '024ea707c59f680aa08653829ff36c3f474860695fe5ae4240d08d1312331c61ca',\n",
       "  'pubkeyhash': 'c67f4d25e52a6b67f2986fdfce4feb49d428ad24',\n",
       "  'xprv': 'xprvA3cnv9vAEFaev899MLK6AjHtjPTYVVpdh3vboiiPe8mSZBRYgnAezfNGtPyUgk22EFSs2RoD1EdSoJzfXrd239HtYawQ8mjNyMAmcbcEkvA',\n",
       "  'xpub': 'xpub6Gc9KfT44d8x8cDcTMr6XsEdHRJ2txYV4GrCc781CUJRRykhEKUuYTgkjes261SvqXJLYCXfBCnFSkaEBWzAhhHrhXcak7Kz1R2xkLNFUz7'},\n",
       " {'address': '0x5E9E589a2E00AF7b0b7FC6b2A8DBa102D5a5fc6f',\n",
       "  'index': 2,\n",
       "  'path': \"m/44'/60'/0'/0/2\",\n",
       "  'privkey': '0x328c82dd5aba5f0337929ddb59eb97e2549ab7207bab7b9cc0ed40a9888599f1',\n",
       "  'pubkey': '0212b6181f7cae95fac117912475d7e8ec8676d1fa39953ebaba01841f03b74884',\n",
       "  'pubkeyhash': '3b20a9ea03232a183fcfdf45d5d117f160c14805',\n",
       "  'xprv': 'xprvA3cnv9vAEFaevi5t9RmFkGnpDHDPbfb3QM2MTh7W3bvkd3RsP32KF5hYqNg6tFYXbSfruuhWViNEGJnn1s4mNRcpvQFRFiQkxqALgEQSAQk',\n",
       "  'xpub': 'xpub6Gc9KfT44d8x9CAMFTJG7QjYmK3t18JtmZwxG5X7bwTjVqm1vaLZnt22gdTr5Wf4QnFzXLrcevKBv7gqU1XyXQZCZ2zEpfkbpuBqvKkdhJ4'}]"
      ]
     },
     "execution_count": 82,
     "metadata": {},
     "output_type": "execute_result"
    }
   ],
   "source": [
    "# Printing the wallet keys\n",
    "derive_wallets(mnemonic,ETH,3)"
   ]
  },
  {
   "cell_type": "code",
   "execution_count": 83,
   "metadata": {},
   "outputs": [],
   "source": [
    "# Linking the transaction signing libraries\n",
    "def priv_key_to_account (coin, priv_key):\n",
    "    if coin == ETH:\n",
    "        return Account.privateKeyToAccount(priv_key)\n",
    "    elif coin == BTCTEST:\n",
    "        return PrivateKeyTestnet(priv_key)"
   ]
  },
  {
   "cell_type": "code",
   "execution_count": 84,
   "metadata": {},
   "outputs": [],
   "source": [
    "\n",
    "w3 = Web3(Web3.HTTPProvider(\"http://127.0.0.1:8545\"))\n",
    "w3.middleware_onion.inject(geth_poa_middleware, layer=0)\n",
    "w3.eth.setGasPriceStrategy(medium_gas_price_strategy)"
   ]
  },
  {
   "cell_type": "code",
   "execution_count": 85,
   "metadata": {},
   "outputs": [],
   "source": [
    "eth_acc = priv_key_to_account(ETH, derive_wallets(mnemonic, ETH,5)[0]['privkey'])\n",
    "btc_acc = priv_key_to_account(BTCTEST, derive_wallets(mnemonic,BTCTEST,5)[0]['privkey'])"
   ]
  },
  {
   "cell_type": "code",
   "execution_count": 86,
   "metadata": {},
   "outputs": [
    {
     "data": {
      "text/plain": [
       "<eth_account.signers.local.LocalAccount at 0x2382d9de4c8>"
      ]
     },
     "execution_count": 86,
     "metadata": {},
     "output_type": "execute_result"
    }
   ],
   "source": [
    "eth_acc"
   ]
  },
  {
   "cell_type": "code",
   "execution_count": 87,
   "metadata": {},
   "outputs": [],
   "source": [
    "#btc_acc.address"
   ]
  },
  {
   "cell_type": "code",
   "execution_count": 88,
   "metadata": {},
   "outputs": [],
   "source": [
    "def create_tx(coin, account, to, amount):\n",
    "    if coin == ETH:\n",
    "        gasEstimate = w3.eth.estimateGas(\n",
    "        {\"from\": eth_acc.address, \"to\": to, \"value\": amount}\n",
    "    )\n",
    "        return {\n",
    "            \"from\": eth_acc.address,\n",
    "            \"to\": to,\n",
    "            \"value\": amount,\n",
    "            \"gasPrice\": w3.eth.gasPrice,\n",
    "            \"gas\": gasEstimate,\n",
    "            \"nonce\": w3.eth.getTransactionCount(account.address),\n",
    "            \n",
    "    }\n",
    "    elif coin == BTCTEST:\n",
    "        return PrivateKeyTestnet.prepare_transaction(account.address, [(to, amount, BTC)])"
   ]
  },
  {
   "cell_type": "code",
   "execution_count": 89,
   "metadata": {},
   "outputs": [],
   "source": [
    "#key = wif_to_key(\"cPSgcKgTyA3jf2RBANPoUojz4CcNfcHGxto2t9LyPcArXS5bkFUp\")\n",
    "#key.get_balance(ETH)"
   ]
  },
  {
   "cell_type": "code",
   "execution_count": 90,
   "metadata": {},
   "outputs": [],
   "source": [
    "#key.get_balance(\"usd\")"
   ]
  },
  {
   "cell_type": "code",
   "execution_count": 91,
   "metadata": {},
   "outputs": [],
   "source": [
    "create_tx('ETH',eth_acc,'0x8B2071CFC67f596BA4C280356bFeED43C030A5c6',1250000000000000000000)"
   ]
  },
  {
   "cell_type": "code",
   "execution_count": 92,
   "metadata": {},
   "outputs": [],
   "source": [
    "#Sending currency (note amount is in WEI)\n",
    "def send_tx(coin,account, recipient, amount):\n",
    "    tx = create_tx(coin,account,recipient,amount)\n",
    "    \n",
    "    if coin == ETH:\n",
    "        signed_tx = eth_account.sign_transaction(tx)\n",
    "        result = w3.eth.sendRawTransaction(signed_tx.rawTransaction)\n",
    "        return result.hex()\n",
    "    elif coin == BTCTEST:\n",
    "        signed_tx = btc_account.sign_transaction(tx)\n",
    "        return NetworkAPI.broadcast_tx_testnet(signed_tx)"
   ]
  },
  {
   "cell_type": "code",
   "execution_count": 93,
   "metadata": {},
   "outputs": [],
   "source": [
    "create_tx('ETH',eth_acc,'0x8B2071CFC67f596BA4C280356bFeED43C030A5c6',1250000000000000000000)"
   ]
  },
  {
   "cell_type": "code",
   "execution_count": 94,
   "metadata": {},
   "outputs": [
    {
     "data": {
      "text/plain": [
       "'0x8e01a223b6ee71b620935ab76e1a970ac7aa9f039d66df9507798752e49454be'"
      ]
     },
     "execution_count": 94,
     "metadata": {},
     "output_type": "execute_result"
    }
   ],
   "source": [
    "send_tx(ETH,eth_acc,'0x8B2071CFC67f596BA4C280356bFeED43C030A5c6',1250000000000000000000)"
   ]
  },
  {
   "cell_type": "code",
   "execution_count": 95,
   "metadata": {},
   "outputs": [],
   "source": [
    "send_tx(BTCTEST,btc_acc,'n3sLNayxAmKgcdERiGDkedbhS55cow3t6P',.001)"
   ]
  },
  {
   "cell_type": "code",
   "execution_count": 96,
   "metadata": {},
   "outputs": [],
   "source": [
    "#Creating easier access to addresses from the index\n",
    "def transaction(coin, sender, to, amount):\n",
    "    send_key = derive_wallets(mnemonic, coin, 5)[sender]['privkey']\n",
    "    send_hash = priv_key_to_account(coin, send_key)\n",
    "    to_address = derive_wallets(mnemonic, coin, 5)[to]['address']\n",
    "    return send_tx(coin, send_hash, to_address, amount)"
   ]
  },
  {
   "cell_type": "code",
   "execution_count": 97,
   "metadata": {},
   "outputs": [
    {
     "data": {
      "text/plain": [
       "'0x088dbaa02c8507849f946648476c3b7d7db193f012d8dd2915ca0345a71d27c8'"
      ]
     },
     "execution_count": 97,
     "metadata": {},
     "output_type": "execute_result"
    }
   ],
   "source": [
    "#Sending a transaciton\n",
    "transaction(ETH,0,1,1250000000000000000000)"
   ]
  },
  {
   "cell_type": "code",
   "execution_count": null,
   "metadata": {},
   "outputs": [],
   "source": []
  }
 ],
 "metadata": {
  "kernelspec": {
   "display_name": "Python 3",
   "language": "python",
   "name": "python3"
  },
  "language_info": {
   "codemirror_mode": {
    "name": "ipython",
    "version": 3
   },
   "file_extension": ".py",
   "mimetype": "text/x-python",
   "name": "python",
   "nbconvert_exporter": "python",
   "pygments_lexer": "ipython3",
   "version": "3.7.7"
  }
 },
 "nbformat": 4,
 "nbformat_minor": 4
}
